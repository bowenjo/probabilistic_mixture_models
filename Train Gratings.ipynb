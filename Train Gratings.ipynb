{
 "cells": [
  {
   "cell_type": "code",
   "execution_count": 2,
   "metadata": {},
   "outputs": [],
   "source": [
    "import numpy as np\n",
    "import matplotlib.pyplot as plt\n",
    "import torch\n",
    "import torchvision\n",
    "import torchvision.transforms as transforms\n",
    "import imp \n",
    "import pickle\n",
    "from IPython.display import clear_output, display\n",
    "\n",
    "from context import rf_pool\n",
    "from dataset_func import CrowdedGratings\n",
    "from rf_pool.utils.functions import gabor_filter"
   ]
  },
  {
   "cell_type": "code",
   "execution_count": 36,
   "metadata": {},
   "outputs": [],
   "source": [
    "# conv layer params\n",
    "n_orientations = 8\n",
    "kernel_size = 5\n",
    "\n",
    "# dataset params\n",
    "n = 800\n",
    "batch_size=10\n",
    "target_orientations = np.linspace(0, np.pi-(10*np.pi/180), n_orientations)\n",
    "\n",
    "diameter = 15\n",
    "input_shape = (25,25)\n",
    "n_cycles = 5.\n",
    "contrast = 1\n",
    "background_size = input_shape[0];\n",
    "background_value = 127\n",
    "spacing = None\n",
    "\n"
   ]
  },
  {
   "cell_type": "code",
   "execution_count": 38,
   "metadata": {},
   "outputs": [],
   "source": [
    "dataset = CrowdedGratings(n=n, target_orientations=target_orientations, n_flankers=0,\n",
    "                          diameter=diameter, n_cycles=n_cycles, contrast=contrast,\n",
    "                          transform=transforms.ToTensor(), background_size=background_size,\n",
    "                          background_value=background_value, spacing=spacing)\n",
    "\n",
    "dataloader = torch.utils.data.DataLoader(dataset, batch_size=batch_size,\n",
    "                                         shuffle=False, num_workers=0)"
   ]
  },
  {
   "cell_type": "code",
   "execution_count": 39,
   "metadata": {},
   "outputs": [
    {
     "data": {
      "image/png": "[encoded data removed]",
      "text/plain": [
       "<Figure size 1440x288 with 10 Axes>"
      ]
     },
     "metadata": {
      "needs_background": "light"
     },
     "output_type": "display_data"
    }
   ],
   "source": [
    "img, l = iter(dataloader).next()\n",
    "fig,ax = plt.subplots(1,len(l), figsize=(20,4))\n",
    "for i in range(len(l)):\n",
    "    ax[i].imshow(img[i,0], \"gray\", vmin=0,vmax=1)\n",
    "    ax[i].set_title(l[i])\n"
   ]
  },
  {
   "cell_type": "code",
   "execution_count": 40,
   "metadata": {},
   "outputs": [],
   "source": [
    "model = rf_pool.models.Model()\n",
    "model.add_module('0', rf_pool.modules.FeedForward(\n",
    "                      hidden=torch.nn.Conv2d(1,32,5),\n",
    "                      activation=torch.nn.ReLU(),\n",
    "                      pool = torch.nn.MaxPool2d(2))\n",
    "                )\n",
    "model.add_module('1', rf_pool.modules.FeedForward(\n",
    "                      hidden=torch.nn.Conv2d(32,8,10))\n",
    "                )\n"
   ]
  },
  {
   "cell_type": "code",
   "execution_count": 42,
   "metadata": {},
   "outputs": [],
   "source": [
    "criterion = torch.nn.CrossEntropyLoss()\n",
    "optimizer = torch.optim.SGD(model.parameters(), lr=1e-4, momentum=.9)"
   ]
  },
  {
   "cell_type": "code",
   "execution_count": 43,
   "metadata": {},
   "outputs": [],
   "source": [
    "def validate(model, dataloader):\n",
    "    with torch.no_grad():\n",
    "        running_acc = 0\n",
    "        for i, data in enumerate(dataloader, 0):\n",
    "            # get the inputs; data is a list of [inputs, labels]\n",
    "            inputs, labels = data\n",
    "            # forward + backward + optimize\n",
    "            outputs = torch.flatten(model(inputs), -3, -1)\n",
    "            running_acc += torch.sum(torch.argmax(outputs,-1) == labels)\n",
    "\n",
    "    return running_acc / n"
   ]
  },
  {
   "cell_type": "code",
   "execution_count": 44,
   "metadata": {},
   "outputs": [
    {
     "data": {
      "text/plain": [
       "'Epoch: 99, Acc: 0.9175000190734863 Loss: 0.6722914040088653'"
      ]
     },
     "metadata": {},
     "output_type": "display_data"
    },
    {
     "data": {
      "text/plain": [
       "'Epoch: 199, Acc: 1.0 Loss: 0.24073955211788417'"
      ]
     },
     "metadata": {},
     "output_type": "display_data"
    },
    {
     "data": {
      "text/plain": [
       "'Epoch: 299, Acc: 1.0 Loss: 0.12498903051018714'"
      ]
     },
     "metadata": {},
     "output_type": "display_data"
    },
    {
     "name": "stdout",
     "output_type": "stream",
     "text": [
      "Finished Training\n"
     ]
    }
   ],
   "source": [
    "n_epochs = 300\n",
    "for epoch in range(n_epochs):  # loop over the dataset multiple times\n",
    "    running_loss = 0.0\n",
    "    for i, data in enumerate(dataloader, 0):\n",
    "        # get the inputs; data is a list of [inputs, labels]\n",
    "        inputs, labels = data\n",
    "\n",
    "        # zero the parameter gradients\n",
    "        optimizer.zero_grad()\n",
    "\n",
    "        # forward + backward + optimize\n",
    "        outputs = torch.flatten(model(inputs), -3,-1)\n",
    "        loss = criterion(outputs, labels)\n",
    "        loss.backward()\n",
    "        optimizer.step()\n",
    "\n",
    "        # print statistics\n",
    "        running_loss += loss.item()\n",
    "    \n",
    "    if epoch%100 == 99:\n",
    "        acc = validate(model, dataloader)   \n",
    "        display(\"Epoch: {}, Acc: {} Loss: {}\".format(epoch, acc, running_loss/ (i+1)))\n",
    "\n",
    "print('Finished Training')"
   ]
  },
  {
   "cell_type": "code",
   "execution_count": null,
   "metadata": {},
   "outputs": [],
   "source": [
    "filename = 'orientation_classifier_weights.pkl'\n",
    "with open(filename, 'wb') as f:\n",
    "    pickle.dump(model.state_dict(), f)"
   ]
  },
  {
   "cell_type": "markdown",
   "metadata": {},
   "source": [
    "## Scratch Work"
   ]
  },
  {
   "cell_type": "code",
   "execution_count": 45,
   "metadata": {},
   "outputs": [],
   "source": [
    "s = torch.nn.Softmax(1)"
   ]
  },
  {
   "cell_type": "code",
   "execution_count": 46,
   "metadata": {},
   "outputs": [],
   "source": [
    "crowdset = CrowdedGratings(n=10, target_orientations=target_orientations, n_flankers=9,\n",
    "                          diameter=diameter, n_cycles=n_cycles, contrast=contrast,\n",
    "                          transform=transforms.ToTensor(), background_size=60,\n",
    "                          background_value=background_value, spacing=24)\n",
    "\n",
    "crowdloader = torch.utils.data.DataLoader(crowdset, batch_size=batch_size,\n",
    "                                         shuffle=False, num_workers=0)"
   ]
  },
  {
   "cell_type": "code",
   "execution_count": 47,
   "metadata": {},
   "outputs": [
    {
     "data": {
      "text/plain": [
       "torch.Size([8, 1, 1])"
      ]
     },
     "execution_count": 47,
     "metadata": {},
     "output_type": "execute_result"
    }
   ],
   "source": [
    "o = torch.tensor(target_orientations*180/np.pi)\n",
    "o = o.unsqueeze(-1).unsqueeze(-1)\n",
    "o.shape"
   ]
  },
  {
   "cell_type": "code",
   "execution_count": 54,
   "metadata": {},
   "outputs": [
    {
     "data": {
      "text/plain": [
       "<matplotlib.image.AxesImage at 0x7f39eb0fed30>"
      ]
     },
     "execution_count": 54,
     "metadata": {},
     "output_type": "execute_result"
    },
    {
     "data": {
      "image/png": "[encoded data removed]",
      "text/plain": [
       "<Figure size 432x288 with 1 Axes>"
      ]
     },
     "metadata": {
      "needs_background": "light"
     },
     "output_type": "display_data"
    }
   ],
   "source": [
    "img, l = iter(crowdloader).next()\n",
    "plt.imshow(img[2,0], \"gray\")"
   ]
  },
  {
   "cell_type": "code",
   "execution_count": 56,
   "metadata": {},
   "outputs": [
    {
     "data": {
      "text/plain": [
       "<matplotlib.colorbar.Colorbar at 0x7f39eae7dac8>"
      ]
     },
     "execution_count": 56,
     "metadata": {},
     "output_type": "execute_result"
    },
    {
     "data": {
      "image/png": "[encoded data removed]",
      "text/plain": [
       "<Figure size 432x288 with 2 Axes>"
      ]
     },
     "metadata": {
      "needs_background": "light"
     },
     "output_type": "display_data"
    }
   ],
   "source": [
    "out = torch.sum(s(model(img)) * o, 1) \n",
    "plt.imshow(out[2].detach(), \"gray\", vmin=0,vmax=180)\n",
    "plt.colorbar()"
   ]
  },
  {
   "cell_type": "code",
   "execution_count": 57,
   "metadata": {},
   "outputs": [
    {
     "data": {
      "text/plain": [
       "torch.Size([10, 19, 19])"
      ]
     },
     "execution_count": 57,
     "metadata": {},
     "output_type": "execute_result"
    }
   ],
   "source": [
    "out.shape"
   ]
  }
 ],
 "metadata": {
  "kernelspec": {
   "display_name": "Python 3",
   "language": "python",
   "name": "python3"
  },
  "language_info": {
   "codemirror_mode": {
    "name": "ipython",
    "version": 3
   },
   "file_extension": ".py",
   "mimetype": "text/x-python",
   "name": "python",
   "nbconvert_exporter": "python",
   "pygments_lexer": "ipython3",
   "version": "3.6.8"
  }
 },
 "nbformat": 4,
 "nbformat_minor": 2
}
